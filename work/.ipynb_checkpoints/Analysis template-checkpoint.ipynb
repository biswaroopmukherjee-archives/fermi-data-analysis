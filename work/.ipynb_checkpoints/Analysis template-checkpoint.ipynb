{
 "cells": [
  {
   "cell_type": "markdown",
   "metadata": {},
   "source": [
    "# Core Analysis"
   ]
  },
  {
   "cell_type": "markdown",
   "metadata": {},
   "source": [
    "The basic essential bit of code needed to start analysis:"
   ]
  },
  {
   "cell_type": "markdown",
   "metadata": {},
   "source": [
    "## Imports and settings"
   ]
  },
  {
   "cell_type": "code",
   "execution_count": 13,
   "metadata": {},
   "outputs": [],
   "source": [
    "# Import \n",
    "import os\n",
    "import pickle\n",
    "import numpy as np\n",
    "import pandas as pd\n",
    "from scipy import ndimage\n",
    "from scipy.optimize import curve_fit\n",
    "import matplotlib\n",
    "import matplotlib.pyplot as plt\n",
    "import matplotlib.animation as animation\n",
    "import skimage\n",
    "from skimage.feature import blob_dog, blob_log, blob_doh\n",
    "\n",
    "import therpy as tp\n",
    "from breadboard import BreadboardClient\n",
    "\n",
    "from tqdm import tqdm_notebook as tqdm\n",
    "from ipywidgets import interact\n",
    "\n",
    "cst = tp.cst()\n",
    "cst._fill_physical_constants\n",
    "cstNa = tp.cst(atom='NaD2')\n",
    "cstLi = tp.cst(atom='LiD2')\n",
    "\n",
    "pd.options.mode.chained_assignment = None  # default='warn'\n",
    "\n",
    "SMALL_SIZE = 12\n",
    "MEDIUM_SIZE = 15\n",
    "BIGGER_SIZE = 17\n",
    "plt.rc('font', size=SMALL_SIZE)          # controls default text sizes\n",
    "plt.rc('axes', titlesize=BIGGER_SIZE)   # fontsize of the axes title\n",
    "plt.rc('axes', labelsize=MEDIUM_SIZE)    # fontsize of the x and y labels\n",
    "plt.rc('xtick', labelsize=SMALL_SIZE)    # fontsize of the tick labels\n",
    "plt.rc('ytick', labelsize=SMALL_SIZE)    # fontsize of the tick labels\n",
    "plt.rc('legend', fontsize=SMALL_SIZE)    # legend fontsize\n",
    "plt.rc('figure', titlesize=BIGGER_SIZE)  # fontsize of the figure title\n",
    "%matplotlib inline\n",
    "\n",
    "bc = BreadboardClient(config_path='../Processed Data/Fermi3/Database/API_CONFIG_fermi3.json')\n",
    "\n",
    "# Image settings\n",
    "settings = {**dict(center_x = int(570), center_y = int(500), width=int(700), height=int(700), subsample=4, \n",
    "                    bg_width=0, bg_order=1, bad_light=0, memory_saver=True, \n",
    "                    Isat=10.3, time=3, pixel= (30/750) * (6.45 * 1e-6), \n",
    "                    od_method='sBL', sigma0=cstNa.sigma0, sigmaf=0.5, fudge=1, )}\n"
   ]
  },
  {
   "cell_type": "code",
   "execution_count": null,
   "metadata": {},
   "outputs": [],
   "source": [
    "### Function defs \n",
    "def get_images(images=None, x_var=None, image_func=tp.Image, display=False, force_match=False):\n",
    "    # This gets images and image parameters from the servers. Uses the clipboard.\n",
    "    \n",
    "    # Download the image parameters\n",
    "    if images==None:\n",
    "        df = bc.get_images_df_clipboard(xvar=x_var, force_match=force_match)\n",
    "    else:\n",
    "        df = bc.get_images_df(images, xvar=x_var, force_match=force_match)\n",
    "    \n",
    "    # Download the images\n",
    "    images = []\n",
    "    for i, r in tqdm(df.iterrows(), desc='Loading'):\n",
    "        images.append(image_func(name=r.imagename, lab='fermi3'))\n",
    "    df['image'] = images\n",
    "\n",
    "    # sort in time\n",
    "    df.sort_values(['unixtime', 'imagename'], inplace=True)\n",
    "    df.reset_index(drop=True, inplace=True)\n",
    "        \n",
    "    # Print Information\n",
    "    if display:\n",
    "        print('Total number of images   : {}'.format(df.shape[0]))\n",
    "        print(df.head(2))\n",
    "    \n",
    "    # return\n",
    "    return df\n"
   ]
  },
  {
   "cell_type": "markdown",
   "metadata": {},
   "source": [
    "## Load Data"
   ]
  },
  {
   "cell_type": "code",
   "execution_count": null,
   "metadata": {},
   "outputs": [],
   "source": [
    "### Get the images from the clipboard:\n",
    "df = get_images(x_var='holdTime', force_match=True)\n",
    "\n",
    "### If you have a list of images\n",
    "# df = get_images(images_to_analyze, x_var='holdTime', force_match=True)\n",
    "\n",
    "\n",
    "settings = {**dict(center_x = int(570), center_y = int(500), width=int(700), height=int(700), subsample=4, \n",
    "                    bg_width=0, bg_order=1, bad_light=0, memory_saver=True, \n",
    "                    Isat=10.3, time=3, pixel= (30/750) * (6.45 * 1e-6), \n",
    "                    od_method='sBL', sigma0=cstNa.sigma0, sigmaf=0.5, fudge=1, )}\n",
    "\n",
    "### Apply settings\n",
    "df['total_atoms']=0\n",
    "for i, r in tqdm(df.iterrows()):\n",
    "    r.image.set(**settings)\n",
    "    df.total_atoms.loc[i] = np.nansum(r.image.app)"
   ]
  },
  {
   "cell_type": "code",
   "execution_count": null,
   "metadata": {},
   "outputs": [],
   "source": [
    "# filtering \n",
    "# dfall = df\n",
    "# df.x = [int(r.imagename[20:]) for i,r in df.iterrows()]\n",
    "# df = dfall[dfall.Omega==0.8]\n",
    "# df.x = df.evap3EndMHz\n",
    "\n",
    "# Sort by x \n",
    "# df = df.sort_values('x').reset_index(drop=True)\n",
    "# df = df.sort_values(['holdTime', 'holdTimeFriend']).reset_index(drop=True)"
   ]
  },
  {
   "cell_type": "code",
   "execution_count": null,
   "metadata": {},
   "outputs": [],
   "source": [
    "# Check out plot crops\n",
    "def test_func(test=0, ):\n",
    "    df.image[test].plot_crop()\n",
    "    print(df.x[test])\n",
    "    \n",
    "if df.shape[0] == 1:\n",
    "    test_func(0)\n",
    "else:\n",
    "    interact(test_func, test=(0, df.shape[0]-1, 1));\n",
    "    "
   ]
  },
  {
   "cell_type": "markdown",
   "metadata": {},
   "source": [
    "## Plot all Images"
   ]
  },
  {
   "cell_type": "code",
   "execution_count": null,
   "metadata": {},
   "outputs": [],
   "source": [
    "\n",
    "ncols = 10\n",
    "nrows = max(1,int(np.ceil(len(df)/ncols)))\n",
    "sizex = 2.5\n",
    "sizey = 2.5\n",
    "clim = [-0.1, 20.6]\n",
    "cmap = 'inferno'\n",
    "\n",
    "ax = plt.subplots(ncols=ncols, nrows=nrows, figsize=[ncols*sizex, nrows*sizey])[1].flatten()\n",
    "for i,r in df.iterrows():\n",
    "#     ax[i].imshow(r.image.app, clim=clim, origin=0, cmap=cmap)\n",
    "    ax[i].imshow(r.fixed_image, clim=clim, origin=0, cmap=cmap)\n",
    "    ax[i].text(0.5, 0.9, '{:.1f}'.format(r.x), horizontalalignment='center', verticalalignment='center', transform=ax[i].transAxes, color='w', fontsize=14)\n",
    "    ax[i].set_axis_off()\n",
    "\n",
    "for a in ax: a.set_axis_off()\n",
    "\n",
    "plt.tight_layout(pad=0)\n",
    "plt.subplots_adjust(wspace=0.02, hspace=0.02)"
   ]
  },
  {
   "cell_type": "markdown",
   "metadata": {},
   "source": [
    "## Find angle of rotation"
   ]
  },
  {
   "cell_type": "code",
   "execution_count": null,
   "metadata": {},
   "outputs": [],
   "source": [
    "image_angles = []\n",
    "fixed_images = []\n",
    "width=int(len(df.iloc[0].image.od)/2)\n",
    "plotrange=50\n",
    "\n",
    "xsize = len(df.iloc[0].image.od[(width-plotrange):(width+plotrange),(width-plotrange):(width+plotrange)])\n",
    "xx = np.linspace(-10, 10, xsize)\n",
    "yy = np.linspace(-10, 10, xsize)\n",
    "xx, yy = np.meshgrid(xx, yy)\n",
    "\n",
    "for i in tqdm(range(len(df))):\n",
    "    testimage = np.nan_to_num(df.iloc[i].image.od)[(width-plotrange):(width+plotrange),(width-plotrange):(width+plotrange)]\n",
    "    testimage[testimage>1e10] =0\n",
    "    # Calculate the moment of inertia tensor\n",
    "    Ixx = np.sum(testimage*yy*yy)\n",
    "    Iyy = np.sum(testimage*xx*xx)\n",
    "    Ixy = np.sum(testimage*xx*yy)\n",
    "    Iyx = Ixy\n",
    "    I =np.array( [[Ixx, Ixy], [Iyx, Iyy]])\n",
    "    evals, evecs = np.linalg.eig(I)\n",
    "    image_angles.append(180*np.arctan(evecs[np.argmin(evals)][1]/evecs[np.argmin(evals)][0])/np.pi)\n",
    "    \n",
    "    fixed_images.append(ndimage.rotate(np.nan_to_num(df.iloc[i].image.od),image_angles[i], reshape=False))\n",
    "    \n",
    "df['I_angle'] = image_angles\n",
    "df['fixed_image'] = fixed_images"
   ]
  },
  {
   "cell_type": "markdown",
   "metadata": {},
   "source": [
    "# Extended Analysis"
   ]
  },
  {
   "cell_type": "markdown",
   "metadata": {},
   "source": [
    "Some useful snippets for different lab tasks:"
   ]
  },
  {
   "cell_type": "markdown",
   "metadata": {},
   "source": [
    "## Averaging over repeats of x"
   ]
  },
  {
   "cell_type": "code",
   "execution_count": null,
   "metadata": {},
   "outputs": [],
   "source": [
    "### df = dataframe containing all of the data. Rows of df can have repeats of df.x eg [0,0,0,1,1,1...]\n",
    "\n",
    "df_results = pd.DataFrame()\n",
    "df_results['x'] = np.unique(df.x)\n",
    "df_results['y_list'] = None\n",
    "df_results['y_mean'] = None\n",
    "\n",
    "for k, result in tqdm(df_results.iterrows()):\n",
    "    \n",
    "    # Select the rows of the original df that match the current x value\n",
    "    df_select = df[df.x==result.x]\n",
    "    y_list = []\n",
    "    \n",
    "    for j,r in df_select.iterrows():\n",
    "        # Process each image to get a y-value\n",
    "        image = r.image.app\n",
    "        y = process_image(image)\n",
    "        y_list.append(y)\n",
    "        \n",
    "    # add the y-values to the output dataframe\n",
    "    df_results.at[k, 'y_list'] = y_list\n",
    "    df_results.at[k, 'y_mean'] = np.mean(y_list)\n",
    "\n",
    "# The output df_results contains unique-x rows. \n",
    "# Use them to plt.plot(df_results.x, df_results.y_mean) for example\n",
    "    "
   ]
  },
  {
   "cell_type": "markdown",
   "metadata": {},
   "source": [
    "## Animation"
   ]
  },
  {
   "cell_type": "code",
   "execution_count": null,
   "metadata": {},
   "outputs": [],
   "source": [
    "# Test a single frame\n",
    "\n",
    "fig, ax= plt.subplots(1,1, figsize=(7,7))\n",
    "\n",
    "width=int(len(df.iloc[0].image.od)//2)\n",
    "plotrange=200\n",
    "\n",
    "i=0\n",
    "# image_to_show = ndimage.rotate(df.loc[i,'fixed_image'],0)[(width-plotrange):(width+plotrange),(width-plotrange):(width+plotrange)]\n",
    "image_to_show = ndimage.rotate(df.loc[i,'image'].od,-5)\n",
    "image_shown = ax.imshow(image_to_show, cmap='inferno', clim=[0,1.4], origin=0)\n",
    "title = ax.set_title('t={:.2f}ms'.format(10*df.loc[i,'x']))\n",
    "\n",
    "ax.set_axis_off()\n",
    "plt.show()"
   ]
  },
  {
   "cell_type": "code",
   "execution_count": null,
   "metadata": {},
   "outputs": [],
   "source": [
    "dfnew = df\n",
    "fig, ax= plt.subplots(1,1, figsize=(7,7))\n",
    "\n",
    "width=int(len(df.iloc[0].image.od)/2)\n",
    "plotrange=500\n",
    "\n",
    "i=0\n",
    "# image_to_show = dfnew.loc[i,'fixed_image'][(width-plotrange):(width+plotrange),(width-plotrange):(width+plotrange)]\n",
    "image_to_show = df.loc[i,'image'].od\n",
    "image_shown = ax.imshow(image_to_show, cmap='inferno', clim=[-0.02,1], origin=0)\n",
    "title = ax.set_title('t={:.2f}ms'.format(df.loc[i,'x']))\n",
    "ax.set_axis_off()\n",
    "\n",
    "def animate(i):\n",
    "#     image_to_show = dfnew.loc[i,'fixed_image'][(width-plotrange):(width+plotrange),(width-plotrange):(width+plotrange)]\n",
    "    image_to_show = df.loc[i,'image'].od\n",
    "    image_shown.set_data(image_to_show)\n",
    "    title.set_text('t={:.2f}ms'.format(df.loc[i,'x']))\n",
    "    return image_shown, title\n",
    "\n",
    "ani = animation.FuncAnimation(fig, animate,\n",
    "                              np.hstack( [\n",
    "                                        np.repeat(np.arange(len(df)),6),\n",
    "                                        np.repeat(len(df)-1,15)\n",
    "                                ]),\n",
    "                              interval=1, blit=False)\n",
    "\n",
    "\n",
    "Writer = animation.writers['ffmpeg']\n",
    "writer = Writer(fps=12, metadata=dict(artist='Me'), bitrate=2800)\n",
    "ani.save('animations/rotini_2019_06_19_DS8.mp4', writer=writer)\n",
    "\n",
    "plt.show()"
   ]
  },
  {
   "cell_type": "markdown",
   "metadata": {},
   "source": [
    "## Vortex Detection"
   ]
  },
  {
   "cell_type": "code",
   "execution_count": null,
   "metadata": {},
   "outputs": [],
   "source": [
    "def vortexfinder(initialOD, plot=False, min_sigma=4, max_sigma=6, threshold=0.3, offset=0.1, block_size=41):\n",
    "\n",
    "    binary_adaptive = skimage.filters.threshold_local(initialOD, block_size, offset=offset)\n",
    "    vortexmask = np.array(1.*(binary_adaptive>initialOD))\n",
    "\n",
    "    blobs = blob_log(vortexmask, min_sigma=min_sigma, max_sigma=max_sigma, threshold=threshold)\n",
    "\n",
    "    if plot==True:\n",
    "        f,ax = plt.subplots(ncols=2, figsize=(12,6))\n",
    "#         ax[0].imshow(vortexmask, origin=0)\n",
    "        ax[0].imshow(initialOD, origin=0)\n",
    "        ax[1].imshow(initialOD, origin=0)\n",
    "        for blob in blobs:\n",
    "            y,x,r = blob\n",
    "            c = plt.Circle((x,y), r,lw=2,color='red', fill=False)\n",
    "            ax[1].add_patch(c)\n",
    "        for a in ax: a.set_axis_off()\n",
    "        plt.show()\n",
    "            \n",
    "    return blobs"
   ]
  },
  {
   "cell_type": "code",
   "execution_count": null,
   "metadata": {},
   "outputs": [],
   "source": [
    "# for i,r in df.iterrows():\n",
    "for r in [df.iloc[17]]:\n",
    "    image = r.image.od\n",
    "    # image = df.iloc[21].image.od\n",
    "    image[image==np.inf]=0\n",
    "    blobs = vortexfinder(np.nan_to_num(image), plot=True, min_sigma=4, max_sigma=10, threshold=0.3, offset=0.1, block_size=41)"
   ]
  }
 ],
 "metadata": {
  "kernelspec": {
   "display_name": "Python 3",
   "language": "python",
   "name": "python3"
  },
  "language_info": {
   "codemirror_mode": {
    "name": "ipython",
    "version": 3
   },
   "file_extension": ".py",
   "mimetype": "text/x-python",
   "name": "python",
   "nbconvert_exporter": "python",
   "pygments_lexer": "ipython3",
   "version": "3.7.6"
  }
 },
 "nbformat": 4,
 "nbformat_minor": 2
}
